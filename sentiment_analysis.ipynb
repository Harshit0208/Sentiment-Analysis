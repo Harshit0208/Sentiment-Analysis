{
  "nbformat": 4,
  "nbformat_minor": 0,
  "metadata": {
    "colab": {
      "name": "sentiment analysis.ipynb",
      "provenance": [],
      "collapsed_sections": [
        "5F4Y6NADbTM9",
        "L6fuuZ7Hbgn9",
        "jKSh_ZzWb9JV",
        "bTWAwP_JPD8_"
      ],
      "include_colab_link": true
    },
    "kernelspec": {
      "name": "python3",
      "display_name": "Python 3"
    },
    "accelerator": "GPU"
  },
  "cells": [
    {
      "cell_type": "markdown",
      "metadata": {
        "id": "view-in-github",
        "colab_type": "text"
      },
      "source": [
        "<a href=\"https://colab.research.google.com/github/Harshit0208/Sentiment-Analysis/blob/master/sentiment_analysis.ipynb\" target=\"_parent\"><img src=\"https://colab.research.google.com/assets/colab-badge.svg\" alt=\"Open In Colab\"/></a>"
      ]
    },
    {
      "cell_type": "markdown",
      "metadata": {
        "id": "5F4Y6NADbTM9",
        "colab_type": "text"
      },
      "source": [
        "### Downloading and importing packages"
      ]
    },
    {
      "cell_type": "code",
      "metadata": {
        "id": "hQjg1bV7_brT",
        "colab_type": "code",
        "colab": {}
      },
      "source": [
        "pip install wget"
      ],
      "execution_count": 0,
      "outputs": []
    },
    {
      "cell_type": "code",
      "metadata": {
        "id": "vPpa52PtCa-u",
        "colab_type": "code",
        "colab": {}
      },
      "source": [
        "pip install pytreebank"
      ],
      "execution_count": 0,
      "outputs": []
    },
    {
      "cell_type": "code",
      "metadata": {
        "id": "fYcwm6tSLMg3",
        "colab_type": "code",
        "colab": {}
      },
      "source": [
        "pip install fasttext"
      ],
      "execution_count": 0,
      "outputs": []
    },
    {
      "cell_type": "code",
      "metadata": {
        "id": "1yAwcz-bN2Ch",
        "colab_type": "code",
        "colab": {}
      },
      "source": [
        "pip install tqdm"
      ],
      "execution_count": 0,
      "outputs": []
    },
    {
      "cell_type": "code",
      "metadata": {
        "id": "cL8HwBd8ZEVG",
        "colab_type": "code",
        "colab": {}
      },
      "source": [
        "import nltk\n",
        "nltk.download('all')"
      ],
      "execution_count": 0,
      "outputs": []
    },
    {
      "cell_type": "code",
      "metadata": {
        "id": "jbo_vfjU5qRR",
        "colab_type": "code",
        "colab": {
          "base_uri": "https://localhost:8080/",
          "height": 34
        },
        "outputId": "6fc553c2-2857-4878-dc96-5b7dc73c6c67"
      },
      "source": [
        "import os\n",
        "import sys\n",
        "import wget\n",
        "url=\"https://nlp.stanford.edu/sentiment/trainDevTestTrees_PTB.zip\"\n",
        "wget.download(url,'/content')\n"
      ],
      "execution_count": 36,
      "outputs": [
        {
          "output_type": "execute_result",
          "data": {
            "text/plain": [
              "'/content/trainDevTestTrees_PTB (1).zip'"
            ]
          },
          "metadata": {
            "tags": []
          },
          "execution_count": 36
        }
      ]
    },
    {
      "cell_type": "markdown",
      "metadata": {
        "id": "L6fuuZ7Hbgn9",
        "colab_type": "text"
      },
      "source": [
        "### Transforming the data into tabular form"
      ]
    },
    {
      "cell_type": "code",
      "metadata": {
        "id": "DKPBXWLaBG5w",
        "colab_type": "code",
        "colab": {
          "base_uri": "https://localhost:8080/",
          "height": 68
        },
        "outputId": "ebb8d7d5-0148-43d5-fa9e-ba3ddbda08e1"
      },
      "source": [
        "import pytreebank\n",
        "out_path = os.path.join(sys.path[0], 'sst_{}.txt')\n",
        "dataset = pytreebank.load_sst('./raw_data')\n",
        "# Store train, dev and test in separate files\n",
        "for category in ['train', 'test', 'dev']:\n",
        "    with open(out_path.format(category), 'w') as outfile:\n",
        "        for item in dataset[category]:\n",
        "            outfile.write(\"__label__{}\\t{}\\n\".format(\n",
        "                item.to_labeled_lines()[0][0] + 1,\n",
        "                item.to_labeled_lines()[0][1]\n",
        "            ))\n",
        "# Print the length of the training set\n",
        "print(len(dataset['train']))\n",
        "print(len(dataset['test']))\n",
        "print(len(dataset['dev']))\n"
      ],
      "execution_count": 37,
      "outputs": [
        {
          "output_type": "stream",
          "text": [
            "8544\n",
            "2210\n",
            "1101\n"
          ],
          "name": "stdout"
        }
      ]
    },
    {
      "cell_type": "markdown",
      "metadata": {
        "id": "jKSh_ZzWb9JV",
        "colab_type": "text"
      },
      "source": [
        "### Exploratory Data Analysis"
      ]
    },
    {
      "cell_type": "code",
      "metadata": {
        "id": "tm6DgTfjCTf5",
        "colab_type": "code",
        "colab": {
          "base_uri": "https://localhost:8080/",
          "height": 204
        },
        "outputId": "622829b3-0e37-4fbe-c780-43129f310dd2"
      },
      "source": [
        "import pandas as pd\n",
        "# Read train data\n",
        "df_train = pd.read_csv('/content/sst_train.txt', sep='\\t', header=None, names=['truth', 'text'])\n",
        "df_train['truth'] = df_train['truth'].str.replace('__label__', '')\n",
        "df_train['truth'] = df_train['truth'].astype(int).astype('category')\n",
        "df_train.head()"
      ],
      "execution_count": 38,
      "outputs": [
        {
          "output_type": "execute_result",
          "data": {
            "text/html": [
              "<div>\n",
              "<style scoped>\n",
              "    .dataframe tbody tr th:only-of-type {\n",
              "        vertical-align: middle;\n",
              "    }\n",
              "\n",
              "    .dataframe tbody tr th {\n",
              "        vertical-align: top;\n",
              "    }\n",
              "\n",
              "    .dataframe thead th {\n",
              "        text-align: right;\n",
              "    }\n",
              "</style>\n",
              "<table border=\"1\" class=\"dataframe\">\n",
              "  <thead>\n",
              "    <tr style=\"text-align: right;\">\n",
              "      <th></th>\n",
              "      <th>truth</th>\n",
              "      <th>text</th>\n",
              "    </tr>\n",
              "  </thead>\n",
              "  <tbody>\n",
              "    <tr>\n",
              "      <th>0</th>\n",
              "      <td>4</td>\n",
              "      <td>The Rock is destined to be the 21st Century 's...</td>\n",
              "    </tr>\n",
              "    <tr>\n",
              "      <th>1</th>\n",
              "      <td>5</td>\n",
              "      <td>The gorgeously elaborate continuation of `` Th...</td>\n",
              "    </tr>\n",
              "    <tr>\n",
              "      <th>2</th>\n",
              "      <td>4</td>\n",
              "      <td>Singer/composer Bryan Adams contributes a slew...</td>\n",
              "    </tr>\n",
              "    <tr>\n",
              "      <th>3</th>\n",
              "      <td>3</td>\n",
              "      <td>You 'd think by now America would have had eno...</td>\n",
              "    </tr>\n",
              "    <tr>\n",
              "      <th>4</th>\n",
              "      <td>4</td>\n",
              "      <td>Yet the act is still charming here .</td>\n",
              "    </tr>\n",
              "  </tbody>\n",
              "</table>\n",
              "</div>"
            ],
            "text/plain": [
              "  truth                                               text\n",
              "0     4  The Rock is destined to be the 21st Century 's...\n",
              "1     5  The gorgeously elaborate continuation of `` Th...\n",
              "2     4  Singer/composer Bryan Adams contributes a slew...\n",
              "3     3  You 'd think by now America would have had eno...\n",
              "4     4               Yet the act is still charming here ."
            ]
          },
          "metadata": {
            "tags": []
          },
          "execution_count": 38
        }
      ]
    },
    {
      "cell_type": "code",
      "metadata": {
        "id": "nbxYsdG3FN-L",
        "colab_type": "code",
        "colab": {
          "base_uri": "https://localhost:8080/",
          "height": 204
        },
        "outputId": "587a51df-908b-4363-b1a0-9c7991acbee9"
      },
      "source": [
        "import pandas as pd\n",
        "# Read test data\n",
        "df_test = pd.read_csv('/content/sst_test.txt', sep='\\t', header=None, names=['truth', 'text'])\n",
        "df_test['truth'] = df_test['truth'].str.replace('__label__', '')\n",
        "df_test['truth'] = df_test['truth'].astype(int).astype('category')\n",
        "df_test.head()"
      ],
      "execution_count": 39,
      "outputs": [
        {
          "output_type": "execute_result",
          "data": {
            "text/html": [
              "<div>\n",
              "<style scoped>\n",
              "    .dataframe tbody tr th:only-of-type {\n",
              "        vertical-align: middle;\n",
              "    }\n",
              "\n",
              "    .dataframe tbody tr th {\n",
              "        vertical-align: top;\n",
              "    }\n",
              "\n",
              "    .dataframe thead th {\n",
              "        text-align: right;\n",
              "    }\n",
              "</style>\n",
              "<table border=\"1\" class=\"dataframe\">\n",
              "  <thead>\n",
              "    <tr style=\"text-align: right;\">\n",
              "      <th></th>\n",
              "      <th>truth</th>\n",
              "      <th>text</th>\n",
              "    </tr>\n",
              "  </thead>\n",
              "  <tbody>\n",
              "    <tr>\n",
              "      <th>0</th>\n",
              "      <td>3</td>\n",
              "      <td>Effective but too-tepid biopic</td>\n",
              "    </tr>\n",
              "    <tr>\n",
              "      <th>1</th>\n",
              "      <td>4</td>\n",
              "      <td>If you sometimes like to go to the movies to h...</td>\n",
              "    </tr>\n",
              "    <tr>\n",
              "      <th>2</th>\n",
              "      <td>5</td>\n",
              "      <td>Emerges as something rare , an issue movie tha...</td>\n",
              "    </tr>\n",
              "    <tr>\n",
              "      <th>3</th>\n",
              "      <td>3</td>\n",
              "      <td>The film provides some great insight into the ...</td>\n",
              "    </tr>\n",
              "    <tr>\n",
              "      <th>4</th>\n",
              "      <td>5</td>\n",
              "      <td>Offers that rare combination of entertainment ...</td>\n",
              "    </tr>\n",
              "  </tbody>\n",
              "</table>\n",
              "</div>"
            ],
            "text/plain": [
              "  truth                                               text\n",
              "0     3                     Effective but too-tepid biopic\n",
              "1     4  If you sometimes like to go to the movies to h...\n",
              "2     5  Emerges as something rare , an issue movie tha...\n",
              "3     3  The film provides some great insight into the ...\n",
              "4     5  Offers that rare combination of entertainment ..."
            ]
          },
          "metadata": {
            "tags": []
          },
          "execution_count": 39
        }
      ]
    },
    {
      "cell_type": "code",
      "metadata": {
        "id": "f0BU3frEFOTf",
        "colab_type": "code",
        "colab": {}
      },
      "source": [
        "import pandas as pd\n",
        "# Read val data\n",
        "df_dev = pd.read_csv('/content/sst_dev.txt', sep='\\t', header=None, names=['truth', 'text'])\n",
        "df_dev['truth'] = df_dev['truth'].str.replace('__label__', '')\n",
        "df_dev['truth'] = df_dev['truth'].astype(int).astype('category')\n"
      ],
      "execution_count": 0,
      "outputs": []
    },
    {
      "cell_type": "code",
      "metadata": {
        "id": "DT7KbofuELYh",
        "colab_type": "code",
        "colab": {
          "base_uri": "https://localhost:8080/",
          "height": 296
        },
        "outputId": "dfc7527c-3627-494c-b4de-20ee9e413e02"
      },
      "source": [
        "import matplotlib.pyplot as plt\n",
        "\n",
        "ax=df_train['truth'].value_counts(sort=False).plot(kind='barh')\n",
        "ax.set_xlabel(\"Number of Samples in training Set\")\n",
        "ax.set_ylabel(\"Label\")"
      ],
      "execution_count": 14,
      "outputs": [
        {
          "output_type": "execute_result",
          "data": {
            "text/plain": [
              "Text(0, 0.5, 'Label')"
            ]
          },
          "metadata": {
            "tags": []
          },
          "execution_count": 14
        },
        {
          "output_type": "display_data",
          "data": {
            "image/png": "[encoded data removed]",
            "text/plain": [
              "<Figure size 432x288 with 1 Axes>"
            ]
          },
          "metadata": {
            "tags": []
          }
        }
      ]
    },
    {
      "cell_type": "code",
      "metadata": {
        "id": "FLL3dsVDEk0X",
        "colab_type": "code",
        "colab": {
          "base_uri": "https://localhost:8080/",
          "height": 296
        },
        "outputId": "38d6f9db-1c25-4334-80f1-933e3af88309"
      },
      "source": [
        "import matplotlib.pyplot as plt\n",
        "\n",
        "ax=df_test['truth'].value_counts(sort=False).plot(kind='barh',color='green')\n",
        "ax.set_xlabel(\"Number of Samples in test Set\")\n",
        "ax.set_ylabel(\"Label\")"
      ],
      "execution_count": 15,
      "outputs": [
        {
          "output_type": "execute_result",
          "data": {
            "text/plain": [
              "Text(0, 0.5, 'Label')"
            ]
          },
          "metadata": {
            "tags": []
          },
          "execution_count": 15
        },
        {
          "output_type": "display_data",
          "data": {
            "image/png": "[encoded data removed]",
            "text/plain": [
              "<Figure size 432x288 with 1 Axes>"
            ]
          },
          "metadata": {
            "tags": []
          }
        }
      ]
    },
    {
      "cell_type": "code",
      "metadata": {
        "id": "ozTUJE5HGOp5",
        "colab_type": "code",
        "colab": {
          "base_uri": "https://localhost:8080/",
          "height": 359
        },
        "outputId": "5e571c63-e7c2-4d21-90d1-a152b14acb54"
      },
      "source": [
        "df_train['len']=df_train['text'].str.len()\n",
        "df_train=df_train.sort_values(['len'],ascending=True)\n",
        "df_train.head(10)"
      ],
      "execution_count": 17,
      "outputs": [
        {
          "output_type": "execute_result",
          "data": {
            "text/html": [
              "<div>\n",
              "<style scoped>\n",
              "    .dataframe tbody tr th:only-of-type {\n",
              "        vertical-align: middle;\n",
              "    }\n",
              "\n",
              "    .dataframe tbody tr th {\n",
              "        vertical-align: top;\n",
              "    }\n",
              "\n",
              "    .dataframe thead th {\n",
              "        text-align: right;\n",
              "    }\n",
              "</style>\n",
              "<table border=\"1\" class=\"dataframe\">\n",
              "  <thead>\n",
              "    <tr style=\"text-align: right;\">\n",
              "      <th></th>\n",
              "      <th>truth</th>\n",
              "      <th>text</th>\n",
              "      <th>len</th>\n",
              "    </tr>\n",
              "  </thead>\n",
              "  <tbody>\n",
              "    <tr>\n",
              "      <th>593</th>\n",
              "      <td>3</td>\n",
              "      <td>Go .</td>\n",
              "      <td>4</td>\n",
              "    </tr>\n",
              "    <tr>\n",
              "      <th>8484</th>\n",
              "      <td>3</td>\n",
              "      <td>Eh .</td>\n",
              "      <td>4</td>\n",
              "    </tr>\n",
              "    <tr>\n",
              "      <th>4198</th>\n",
              "      <td>4</td>\n",
              "      <td>Wow .</td>\n",
              "      <td>5</td>\n",
              "    </tr>\n",
              "    <tr>\n",
              "      <th>5286</th>\n",
              "      <td>4</td>\n",
              "      <td>Yes .</td>\n",
              "      <td>5</td>\n",
              "    </tr>\n",
              "    <tr>\n",
              "      <th>5288</th>\n",
              "      <td>2</td>\n",
              "      <td>No. .</td>\n",
              "      <td>5</td>\n",
              "    </tr>\n",
              "    <tr>\n",
              "      <th>1270</th>\n",
              "      <td>2</td>\n",
              "      <td>Why ?</td>\n",
              "      <td>5</td>\n",
              "    </tr>\n",
              "    <tr>\n",
              "      <th>7670</th>\n",
              "      <td>4</td>\n",
              "      <td>Zoom !</td>\n",
              "      <td>6</td>\n",
              "    </tr>\n",
              "    <tr>\n",
              "      <th>7669</th>\n",
              "      <td>3</td>\n",
              "      <td>Bang !</td>\n",
              "      <td>6</td>\n",
              "    </tr>\n",
              "    <tr>\n",
              "      <th>2038</th>\n",
              "      <td>3</td>\n",
              "      <td>A. . .</td>\n",
              "      <td>6</td>\n",
              "    </tr>\n",
              "    <tr>\n",
              "      <th>335</th>\n",
              "      <td>4</td>\n",
              "      <td>Cool .</td>\n",
              "      <td>6</td>\n",
              "    </tr>\n",
              "  </tbody>\n",
              "</table>\n",
              "</div>"
            ],
            "text/plain": [
              "     truth    text  len\n",
              "593      3    Go .    4\n",
              "8484     3    Eh .    4\n",
              "4198     4   Wow .    5\n",
              "5286     4   Yes .    5\n",
              "5288     2   No. .    5\n",
              "1270     2   Why ?    5\n",
              "7670     4  Zoom !    6\n",
              "7669     3  Bang !    6\n",
              "2038     3  A. . .    6\n",
              "335      4  Cool .    6"
            ]
          },
          "metadata": {
            "tags": []
          },
          "execution_count": 17
        }
      ]
    },
    {
      "cell_type": "code",
      "metadata": {
        "id": "aleV9A6UHGFz",
        "colab_type": "code",
        "colab": {}
      },
      "source": [
        "\n",
        "from nltk.sentiment.vader import SentimentIntensityAnalyzer\n",
        "from textblob import TextBlob\n",
        "import fasttext\n",
        "import numpy as np\n",
        "from sklearn.metrics import f1_score, accuracy_score, confusion_matrix\n",
        "from tqdm.auto import tqdm\n"
      ],
      "execution_count": 0,
      "outputs": []
    },
    {
      "cell_type": "code",
      "metadata": {
        "id": "1rX1SIJ5LH2j",
        "colab_type": "code",
        "colab": {}
      },
      "source": [
        "def print_accuracy(df, pred_column):\n",
        "    \"Print f1 score and accuracy after making predictions\"\n",
        "    f1_macro = f1_score(df['truth'], df[pred_column], average='macro')\n",
        "    acc = accuracy_score(df['truth'], df[pred_column])*100\n",
        "    return f1_macro, acc"
      ],
      "execution_count": 0,
      "outputs": []
    },
    {
      "cell_type": "markdown",
      "metadata": {
        "id": "bTWAwP_JPD8_",
        "colab_type": "text"
      },
      "source": [
        "### 1. TextBlob"
      ]
    },
    {
      "cell_type": "code",
      "metadata": {
        "id": "rySQo0MhPHs2",
        "colab_type": "code",
        "colab": {}
      },
      "source": [
        "def textblob_score(sentence):\n",
        "    return TextBlob(sentence).sentiment.polarity"
      ],
      "execution_count": 0,
      "outputs": []
    },
    {
      "cell_type": "code",
      "metadata": {
        "id": "0H6rKMmpYGwx",
        "colab_type": "code",
        "colab": {
          "base_uri": "https://localhost:8080/",
          "height": 204
        },
        "outputId": "2b972602-24e2-4659-806e-6c78ffb4d040"
      },
      "source": [
        "df=df_test# Convert textblob sentiment score\n",
        "df['textblob_score'] = df['text'].apply(textblob_score)\n",
        "# Convert float score to category based on binning\n",
        "df['textblob_pred'] = pd.cut(df['textblob_score'], bins=5, labels=[1, 2, 3, 4, 5])\n",
        "df = df.drop('textblob_score', axis=1)\n",
        "df.head()"
      ],
      "execution_count": 42,
      "outputs": [
        {
          "output_type": "execute_result",
          "data": {
            "text/html": [
              "<div>\n",
              "<style scoped>\n",
              "    .dataframe tbody tr th:only-of-type {\n",
              "        vertical-align: middle;\n",
              "    }\n",
              "\n",
              "    .dataframe tbody tr th {\n",
              "        vertical-align: top;\n",
              "    }\n",
              "\n",
              "    .dataframe thead th {\n",
              "        text-align: right;\n",
              "    }\n",
              "</style>\n",
              "<table border=\"1\" class=\"dataframe\">\n",
              "  <thead>\n",
              "    <tr style=\"text-align: right;\">\n",
              "      <th></th>\n",
              "      <th>truth</th>\n",
              "      <th>text</th>\n",
              "      <th>textblob_pred</th>\n",
              "    </tr>\n",
              "  </thead>\n",
              "  <tbody>\n",
              "    <tr>\n",
              "      <th>0</th>\n",
              "      <td>3</td>\n",
              "      <td>Effective but too-tepid biopic</td>\n",
              "      <td>4</td>\n",
              "    </tr>\n",
              "    <tr>\n",
              "      <th>1</th>\n",
              "      <td>4</td>\n",
              "      <td>If you sometimes like to go to the movies to h...</td>\n",
              "      <td>4</td>\n",
              "    </tr>\n",
              "    <tr>\n",
              "      <th>2</th>\n",
              "      <td>5</td>\n",
              "      <td>Emerges as something rare , an issue movie tha...</td>\n",
              "      <td>4</td>\n",
              "    </tr>\n",
              "    <tr>\n",
              "      <th>3</th>\n",
              "      <td>3</td>\n",
              "      <td>The film provides some great insight into the ...</td>\n",
              "      <td>4</td>\n",
              "    </tr>\n",
              "    <tr>\n",
              "      <th>4</th>\n",
              "      <td>5</td>\n",
              "      <td>Offers that rare combination of entertainment ...</td>\n",
              "      <td>3</td>\n",
              "    </tr>\n",
              "  </tbody>\n",
              "</table>\n",
              "</div>"
            ],
            "text/plain": [
              "  truth                                               text textblob_pred\n",
              "0     3                     Effective but too-tepid biopic             4\n",
              "1     4  If you sometimes like to go to the movies to h...             4\n",
              "2     5  Emerges as something rare , an issue movie tha...             4\n",
              "3     3  The film provides some great insight into the ...             4\n",
              "4     5  Offers that rare combination of entertainment ...             3"
            ]
          },
          "metadata": {
            "tags": []
          },
          "execution_count": 42
        }
      ]
    },
    {
      "cell_type": "code",
      "metadata": {
        "id": "Gx-_98XZYPdt",
        "colab_type": "code",
        "colab": {
          "base_uri": "https://localhost:8080/",
          "height": 51
        },
        "outputId": "cf483975-0bf5-4855-fa03-cfc969092b03"
      },
      "source": [
        "acc = print_accuracy(df, 'textblob_pred')\n",
        "print(\"Macro F1-score: {}\\nAccuracy: {}\".format(acc[0], acc[1]))"
      ],
      "execution_count": 23,
      "outputs": [
        {
          "output_type": "stream",
          "text": [
            "Macro F1-score: 0.2468141571266554\n",
            "Accuracy: 28.3710407239819\n"
          ],
          "name": "stdout"
        }
      ]
    },
    {
      "cell_type": "markdown",
      "metadata": {
        "id": "9c7LKItAYo2G",
        "colab_type": "text"
      },
      "source": [
        "### 2.VADER"
      ]
    },
    {
      "cell_type": "code",
      "metadata": {
        "id": "TSByqakmYs5V",
        "colab_type": "code",
        "colab": {}
      },
      "source": [
        "vader = SentimentIntensityAnalyzer()\n",
        "def score_vader(sentence, vader):\n",
        "    return vader.polarity_scores(sentence)['compound']"
      ],
      "execution_count": 0,
      "outputs": []
    },
    {
      "cell_type": "code",
      "metadata": {
        "id": "XPXfTHMcY0Ju",
        "colab_type": "code",
        "colab": {
          "base_uri": "https://localhost:8080/",
          "height": 204
        },
        "outputId": "5aa34894-bef4-412e-e4a3-c610ef3f2e85"
      },
      "source": [
        "# Calculate Vader sentiment score\n",
        "df['vader_score'] = df['text'].apply(lambda x: score_vader(x, vader))\n",
        "# Convert float score to category based on binning\n",
        "df['vader_pred'] = pd.cut(df['vader_score'], bins=5, labels=[1, 2, 3, 4, 5])\n",
        "df = df.drop('vader_score', axis=1)\n",
        "df.head()"
      ],
      "execution_count": 28,
      "outputs": [
        {
          "output_type": "execute_result",
          "data": {
            "text/html": [
              "<div>\n",
              "<style scoped>\n",
              "    .dataframe tbody tr th:only-of-type {\n",
              "        vertical-align: middle;\n",
              "    }\n",
              "\n",
              "    .dataframe tbody tr th {\n",
              "        vertical-align: top;\n",
              "    }\n",
              "\n",
              "    .dataframe thead th {\n",
              "        text-align: right;\n",
              "    }\n",
              "</style>\n",
              "<table border=\"1\" class=\"dataframe\">\n",
              "  <thead>\n",
              "    <tr style=\"text-align: right;\">\n",
              "      <th></th>\n",
              "      <th>truth</th>\n",
              "      <th>text</th>\n",
              "      <th>textblob_pred</th>\n",
              "      <th>vader_pred</th>\n",
              "    </tr>\n",
              "  </thead>\n",
              "  <tbody>\n",
              "    <tr>\n",
              "      <th>0</th>\n",
              "      <td>3</td>\n",
              "      <td>Effective but too-tepid biopic</td>\n",
              "      <td>4</td>\n",
              "      <td>4</td>\n",
              "    </tr>\n",
              "    <tr>\n",
              "      <th>1</th>\n",
              "      <td>4</td>\n",
              "      <td>If you sometimes like to go to the movies to h...</td>\n",
              "      <td>4</td>\n",
              "      <td>5</td>\n",
              "    </tr>\n",
              "    <tr>\n",
              "      <th>2</th>\n",
              "      <td>5</td>\n",
              "      <td>Emerges as something rare , an issue movie tha...</td>\n",
              "      <td>4</td>\n",
              "      <td>5</td>\n",
              "    </tr>\n",
              "    <tr>\n",
              "      <th>3</th>\n",
              "      <td>3</td>\n",
              "      <td>The film provides some great insight into the ...</td>\n",
              "      <td>4</td>\n",
              "      <td>5</td>\n",
              "    </tr>\n",
              "    <tr>\n",
              "      <th>4</th>\n",
              "      <td>5</td>\n",
              "      <td>Offers that rare combination of entertainment ...</td>\n",
              "      <td>3</td>\n",
              "      <td>4</td>\n",
              "    </tr>\n",
              "  </tbody>\n",
              "</table>\n",
              "</div>"
            ],
            "text/plain": [
              "  truth  ... vader_pred\n",
              "0     3  ...          4\n",
              "1     4  ...          5\n",
              "2     5  ...          5\n",
              "3     3  ...          5\n",
              "4     5  ...          4\n",
              "\n",
              "[5 rows x 4 columns]"
            ]
          },
          "metadata": {
            "tags": []
          },
          "execution_count": 28
        }
      ]
    },
    {
      "cell_type": "code",
      "metadata": {
        "id": "M380LTtVa7m9",
        "colab_type": "code",
        "colab": {
          "base_uri": "https://localhost:8080/",
          "height": 51
        },
        "outputId": "4676d37e-46ab-4cdd-ab0b-f6790feed210"
      },
      "source": [
        "acc = print_accuracy(df, 'vader_pred')\n",
        "print(\"Macro F1-score: {}\\nAccuracy: {}\".format(acc[0], acc[1]))"
      ],
      "execution_count": 29,
      "outputs": [
        {
          "output_type": "stream",
          "text": [
            "Macro F1-score: 0.31297326018199634\n",
            "Accuracy: 31.538461538461537\n"
          ],
          "name": "stdout"
        }
      ]
    },
    {
      "cell_type": "markdown",
      "metadata": {
        "id": "7SIVm7UwbJHN",
        "colab_type": "text"
      },
      "source": [
        "### 3.FastText"
      ]
    },
    {
      "cell_type": "code",
      "metadata": {
        "id": "qqSUVnK_bMWl",
        "colab_type": "code",
        "colab": {}
      },
      "source": [
        "hyper_params = {\n",
        "    \"lr\": 0.5,\n",
        "    \"epoch\": 100,\n",
        "    \"wordNgrams\": 3,\n",
        "    \"dim\": 100,\n",
        "    \"ws\": 3,\n",
        "}"
      ],
      "execution_count": 0,
      "outputs": []
    },
    {
      "cell_type": "code",
      "metadata": {
        "id": "sVggqNnPcL-y",
        "colab_type": "code",
        "colab": {}
      },
      "source": [
        "model = fasttext.train_supervised(input=\"/content/sst_train.txt\", **hyper_params)\n",
        "model.save_model('/content/fast.bin')"
      ],
      "execution_count": 0,
      "outputs": []
    },
    {
      "cell_type": "code",
      "metadata": {
        "id": "JVsqzCMAo9gX",
        "colab_type": "code",
        "colab": {
          "base_uri": "https://localhost:8080/",
          "height": 34
        },
        "outputId": "7c6101c8-cd35-4410-84e5-ed67c2d38e88"
      },
      "source": [
        "print(model.labels)"
      ],
      "execution_count": 64,
      "outputs": [
        {
          "output_type": "stream",
          "text": [
            "['__label__4', '__label__2', '__label__3', '__label__5', '__label__1']\n"
          ],
          "name": "stdout"
        }
      ]
    },
    {
      "cell_type": "code",
      "metadata": {
        "id": "bCe_xMd6h28I",
        "colab_type": "code",
        "colab": {
          "base_uri": "https://localhost:8080/",
          "height": 68
        },
        "outputId": "662cf0bd-750f-4113-9e66-f518314e59bb"
      },
      "source": [
        "ft_model = fasttext.load_model('/content/fast.bin')\n",
        "list_text=df['text'].tolist()\n",
        "labels=ft_model.predict(list_text)\n",
        "label = [''.join(i) for i in labels[0]]\n",
        "dfg=pd.Series(label)\n",
        "df['fasttext_pred'] = dfg.str.replace('__label__', '')\n",
        "df['fasttext_pred'] = df['fasttext_pred'].astype(int).astype('category')\n",
        "acc = print_accuracy(df, 'fasttext_pred')\n",
        "print(\"Macro F1-score: {}\\nAccuracy: {}\".format(acc[0], acc[1]))"
      ],
      "execution_count": 109,
      "outputs": [
        {
          "output_type": "stream",
          "text": [
            "Macro F1-score: 0.3658513395809423\n",
            "Accuracy: 39.366515837104075\n"
          ],
          "name": "stdout"
        },
        {
          "output_type": "stream",
          "text": [
            "\n"
          ],
          "name": "stderr"
        }
      ]
    },
    {
      "cell_type": "code",
      "metadata": {
        "id": "4EFm7iF1w221",
        "colab_type": "code",
        "colab": {}
      },
      "source": [
        ""
      ],
      "execution_count": 0,
      "outputs": []
    }
  ]
}